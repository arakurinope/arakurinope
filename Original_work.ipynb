{
  "nbformat": 4,
  "nbformat_minor": 0,
  "metadata": {
    "colab": {
      "name": "Original work.ipynb",
      "provenance": [],
      "authorship_tag": "ABX9TyN2eeJkacke+B09w5IdRzR+",
      "include_colab_link": true
    },
    "kernelspec": {
      "name": "python3",
      "display_name": "Python 3"
    },
    "language_info": {
      "name": "python"
    }
  },
  "cells": [
    {
      "cell_type": "markdown",
      "metadata": {
        "id": "view-in-github",
        "colab_type": "text"
      },
      "source": [
        "<a href=\"https://colab.research.google.com/github/arakurinope/arakurinope_projectPortfolio/blob/main/Original_work.ipynb\" target=\"_parent\"><img src=\"https://colab.research.google.com/assets/colab-badge.svg\" alt=\"Open In Colab\"/></a>"
      ]
    },
    {
      "cell_type": "code",
      "execution_count": 1,
      "metadata": {
        "id": "gRoSuCDMV9Nv"
      },
      "outputs": [],
      "source": [
        "import pandas as pd\n",
        "import numpy as np\n",
        "import matplotlib.pyplot as plt\n",
        "import seaborn as sns\n",
        "from scipy.stats import boxcox\n",
        "from tqdm.notebook import tqdm\n",
        "import os\n",
        "import pickle\n",
        "from sklearn.model_selection import train_test_split\n",
        "import pdb\n",
        "import datetime\n",
        "from scipy.stats import pearsonr\n",
        "import warnings\n",
        "from sklearn.preprocessing import StandardScaler, OneHotEncoder\n",
        "from sklearn.compose import ColumnTransformer\n",
        "from sklearn.metrics import accuracy_score, log_loss, plot_roc_curve, f1_score, precision_score, recall_score\n",
        "from sklearn.model_selection import RandomizedSearchCV\n",
        "import matplotlib\n",
        "from prettytable import PrettyTable\n",
        "from pprint import pprint\n",
        "\n",
        "warnings.filterwarnings(\"ignore\",category=matplotlib.cbook.mplDeprecation)\n",
        "_ = np.seterr(over='ignore')\n",
        "\n",
        "from sklearn.metrics import confusion_matrix"
      ]
    },
    {
      "cell_type": "code",
      "source": [
        ""
      ],
      "metadata": {
        "id": "LPTrU794W00X"
      },
      "execution_count": null,
      "outputs": []
    }
  ]
}