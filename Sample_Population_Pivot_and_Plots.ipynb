{
  "cells": [
    {
      "cell_type": "markdown",
      "metadata": {
        "id": "view-in-github",
        "colab_type": "text"
      },
      "source": [
        "<a href=\"https://colab.research.google.com/github/arakurinope/arakurinope_projectPortfolio/blob/main/Sample_Population_Pivot_and_Plots.ipynb\" target=\"_parent\"><img src=\"https://colab.research.google.com/assets/colab-badge.svg\" alt=\"Open In Colab\"/></a>"
      ]
    },
    {
      "cell_type": "code",
      "execution_count": null,
      "id": "e587c28b",
      "metadata": {
        "id": "e587c28b"
      },
      "outputs": [],
      "source": [
        "import pandas as pd"
      ]
    },
    {
      "cell_type": "code",
      "execution_count": null,
      "id": "014f0723",
      "metadata": {
        "id": "014f0723"
      },
      "outputs": [],
      "source": [
        "df_population_raw = pd.read_csv(r'C:\\Users\\user\\Downloads\\population_total.csv')"
      ]
    },
    {
      "cell_type": "code",
      "execution_count": null,
      "id": "812be3ca",
      "metadata": {
        "collapsed": true,
        "id": "812be3ca",
        "outputId": "b499e511-aea9-46f1-dc1c-5d648a4c347b"
      },
      "outputs": [
        {
          "data": {
            "text/html": [
              "<div>\n",
              "<style scoped>\n",
              "    .dataframe tbody tr th:only-of-type {\n",
              "        vertical-align: middle;\n",
              "    }\n",
              "\n",
              "    .dataframe tbody tr th {\n",
              "        vertical-align: top;\n",
              "    }\n",
              "\n",
              "    .dataframe thead th {\n",
              "        text-align: right;\n",
              "    }\n",
              "</style>\n",
              "<table border=\"1\" class=\"dataframe\">\n",
              "  <thead>\n",
              "    <tr style=\"text-align: right;\">\n",
              "      <th></th>\n",
              "      <th>country</th>\n",
              "      <th>year</th>\n",
              "      <th>population</th>\n",
              "    </tr>\n",
              "  </thead>\n",
              "  <tbody>\n",
              "    <tr>\n",
              "      <th>0</th>\n",
              "      <td>China</td>\n",
              "      <td>2020.0</td>\n",
              "      <td>1.439324e+09</td>\n",
              "    </tr>\n",
              "    <tr>\n",
              "      <th>1</th>\n",
              "      <td>China</td>\n",
              "      <td>2019.0</td>\n",
              "      <td>1.433784e+09</td>\n",
              "    </tr>\n",
              "    <tr>\n",
              "      <th>2</th>\n",
              "      <td>China</td>\n",
              "      <td>2018.0</td>\n",
              "      <td>1.427648e+09</td>\n",
              "    </tr>\n",
              "    <tr>\n",
              "      <th>3</th>\n",
              "      <td>China</td>\n",
              "      <td>2017.0</td>\n",
              "      <td>1.421022e+09</td>\n",
              "    </tr>\n",
              "    <tr>\n",
              "      <th>4</th>\n",
              "      <td>China</td>\n",
              "      <td>2016.0</td>\n",
              "      <td>1.414049e+09</td>\n",
              "    </tr>\n",
              "    <tr>\n",
              "      <th>...</th>\n",
              "      <td>...</td>\n",
              "      <td>...</td>\n",
              "      <td>...</td>\n",
              "    </tr>\n",
              "    <tr>\n",
              "      <th>4180</th>\n",
              "      <td>United States</td>\n",
              "      <td>1965.0</td>\n",
              "      <td>1.997337e+08</td>\n",
              "    </tr>\n",
              "    <tr>\n",
              "      <th>4181</th>\n",
              "      <td>United States</td>\n",
              "      <td>1960.0</td>\n",
              "      <td>1.867206e+08</td>\n",
              "    </tr>\n",
              "    <tr>\n",
              "      <th>4182</th>\n",
              "      <td>United States</td>\n",
              "      <td>1955.0</td>\n",
              "      <td>1.716853e+08</td>\n",
              "    </tr>\n",
              "    <tr>\n",
              "      <th>4183</th>\n",
              "      <td>India</td>\n",
              "      <td>1960.0</td>\n",
              "      <td>4.505477e+08</td>\n",
              "    </tr>\n",
              "    <tr>\n",
              "      <th>4184</th>\n",
              "      <td>India</td>\n",
              "      <td>1955.0</td>\n",
              "      <td>4.098806e+08</td>\n",
              "    </tr>\n",
              "  </tbody>\n",
              "</table>\n",
              "<p>4185 rows × 3 columns</p>\n",
              "</div>"
            ],
            "text/plain": [
              "            country    year    population\n",
              "0             China  2020.0  1.439324e+09\n",
              "1             China  2019.0  1.433784e+09\n",
              "2             China  2018.0  1.427648e+09\n",
              "3             China  2017.0  1.421022e+09\n",
              "4             China  2016.0  1.414049e+09\n",
              "...             ...     ...           ...\n",
              "4180  United States  1965.0  1.997337e+08\n",
              "4181  United States  1960.0  1.867206e+08\n",
              "4182  United States  1955.0  1.716853e+08\n",
              "4183          India  1960.0  4.505477e+08\n",
              "4184          India  1955.0  4.098806e+08\n",
              "\n",
              "[4185 rows x 3 columns]"
            ]
          },
          "execution_count": 6,
          "metadata": {},
          "output_type": "execute_result"
        }
      ],
      "source": [
        "#checking the dataset\n",
        "df_population_raw"
      ]
    },
    {
      "cell_type": "markdown",
      "id": "0de8d71d",
      "metadata": {
        "id": "0de8d71d"
      },
      "source": [
        "# Data visualization with pandas\n",
        "### 1. Making Pivot tables and plotting charts\n",
        "### 2. Saving Plots and exporting pivot"
      ]
    },
    {
      "cell_type": "markdown",
      "id": "fbfb28f7",
      "metadata": {
        "id": "fbfb28f7"
      },
      "source": [
        "### 1. Making a Pivot Table"
      ]
    },
    {
      "cell_type": "markdown",
      "id": "69dc2d1b",
      "metadata": {
        "id": "69dc2d1b"
      },
      "source": [
        "#### using .pivot() method which returns a reshaped DataFrame organized by index/ column values\n",
        "###### (\"pivot without aggregation\")"
      ]
    },
    {
      "cell_type": "code",
      "execution_count": null,
      "id": "2158a3a9",
      "metadata": {
        "id": "2158a3a9"
      },
      "outputs": [],
      "source": [
        "#dropping Null values\n",
        "df_population_raw.dropna(inplace = True)"
      ]
    },
    {
      "cell_type": "code",
      "execution_count": null,
      "id": "78f71071",
      "metadata": {
        "scrolled": true,
        "id": "78f71071"
      },
      "outputs": [],
      "source": [
        "#making a pivot table\n",
        "pivot_populaton = df_population_raw.pivot(index = \"year\", \n",
        "                        columns = \"country\", \n",
        "                        values = \"population\" )"
      ]
    },
    {
      "cell_type": "code",
      "execution_count": null,
      "id": "d7b98ec8",
      "metadata": {
        "id": "d7b98ec8"
      },
      "outputs": [],
      "source": [
        "#selecting some countries\n",
        "pivot_populaton = pivot_populaton[['Nigeria', 'Ghana', 'Niger','Cameroon','Senegal','Benin','Togo']]"
      ]
    },
    {
      "cell_type": "code",
      "execution_count": null,
      "id": "f1263130",
      "metadata": {
        "id": "f1263130",
        "outputId": "9ebd3499-edc6-45c8-8538-7375fd1d91c9"
      },
      "outputs": [
        {
          "data": {
            "text/html": [
              "<div>\n",
              "<style scoped>\n",
              "    .dataframe tbody tr th:only-of-type {\n",
              "        vertical-align: middle;\n",
              "    }\n",
              "\n",
              "    .dataframe tbody tr th {\n",
              "        vertical-align: top;\n",
              "    }\n",
              "\n",
              "    .dataframe thead th {\n",
              "        text-align: right;\n",
              "    }\n",
              "</style>\n",
              "<table border=\"1\" class=\"dataframe\">\n",
              "  <thead>\n",
              "    <tr style=\"text-align: right;\">\n",
              "      <th>country</th>\n",
              "      <th>Nigeria</th>\n",
              "      <th>Ghana</th>\n",
              "      <th>Niger</th>\n",
              "      <th>Cameroon</th>\n",
              "      <th>Senegal</th>\n",
              "      <th>Benin</th>\n",
              "      <th>Togo</th>\n",
              "    </tr>\n",
              "    <tr>\n",
              "      <th>year</th>\n",
              "      <th></th>\n",
              "      <th></th>\n",
              "      <th></th>\n",
              "      <th></th>\n",
              "      <th></th>\n",
              "      <th></th>\n",
              "      <th></th>\n",
              "    </tr>\n",
              "  </thead>\n",
              "  <tbody>\n",
              "    <tr>\n",
              "      <th>1955.0</th>\n",
              "      <td>41086100.0</td>\n",
              "      <td>5730594.0</td>\n",
              "      <td>2955541.0</td>\n",
              "      <td>4706995.0</td>\n",
              "      <td>2808225.0</td>\n",
              "      <td>2303587.0</td>\n",
              "      <td>1473839.0</td>\n",
              "    </tr>\n",
              "    <tr>\n",
              "      <th>1960.0</th>\n",
              "      <td>45138458.0</td>\n",
              "      <td>6635230.0</td>\n",
              "      <td>3388764.0</td>\n",
              "      <td>5176918.0</td>\n",
              "      <td>3206749.0</td>\n",
              "      <td>2431622.0</td>\n",
              "      <td>1580513.0</td>\n",
              "    </tr>\n",
              "    <tr>\n",
              "      <th>1965.0</th>\n",
              "      <td>50127921.0</td>\n",
              "      <td>7739473.0</td>\n",
              "      <td>3914117.0</td>\n",
              "      <td>5773543.0</td>\n",
              "      <td>3682876.0</td>\n",
              "      <td>2632356.0</td>\n",
              "      <td>1708630.0</td>\n",
              "    </tr>\n",
              "    <tr>\n",
              "      <th>1970.0</th>\n",
              "      <td>55982144.0</td>\n",
              "      <td>8735495.0</td>\n",
              "      <td>4510644.0</td>\n",
              "      <td>6519762.0</td>\n",
              "      <td>4257505.0</td>\n",
              "      <td>2912340.0</td>\n",
              "      <td>2115522.0</td>\n",
              "    </tr>\n",
              "    <tr>\n",
              "      <th>1975.0</th>\n",
              "      <td>63374298.0</td>\n",
              "      <td>9985946.0</td>\n",
              "      <td>5184941.0</td>\n",
              "      <td>7451054.0</td>\n",
              "      <td>4929846.0</td>\n",
              "      <td>3265165.0</td>\n",
              "      <td>2410446.0</td>\n",
              "    </tr>\n",
              "    <tr>\n",
              "      <th>1980.0</th>\n",
              "      <td>73423633.0</td>\n",
              "      <td>11056116.0</td>\n",
              "      <td>5989004.0</td>\n",
              "      <td>8621406.0</td>\n",
              "      <td>5583165.0</td>\n",
              "      <td>3717165.0</td>\n",
              "      <td>2720839.0</td>\n",
              "    </tr>\n",
              "    <tr>\n",
              "      <th>1985.0</th>\n",
              "      <td>83562785.0</td>\n",
              "      <td>12783613.0</td>\n",
              "      <td>6915997.0</td>\n",
              "      <td>10070806.0</td>\n",
              "      <td>6471327.0</td>\n",
              "      <td>4278501.0</td>\n",
              "      <td>3252994.0</td>\n",
              "    </tr>\n",
              "    <tr>\n",
              "      <th>1990.0</th>\n",
              "      <td>95212450.0</td>\n",
              "      <td>14773277.0</td>\n",
              "      <td>8026591.0</td>\n",
              "      <td>11780088.0</td>\n",
              "      <td>7526307.0</td>\n",
              "      <td>4978496.0</td>\n",
              "      <td>3774312.0</td>\n",
              "    </tr>\n",
              "    <tr>\n",
              "      <th>1995.0</th>\n",
              "      <td>107948335.0</td>\n",
              "      <td>17014057.0</td>\n",
              "      <td>9490288.0</td>\n",
              "      <td>13599988.0</td>\n",
              "      <td>8690164.0</td>\n",
              "      <td>5905558.0</td>\n",
              "      <td>4226291.0</td>\n",
              "    </tr>\n",
              "    <tr>\n",
              "      <th>2000.0</th>\n",
              "      <td>122283850.0</td>\n",
              "      <td>19278856.0</td>\n",
              "      <td>11331557.0</td>\n",
              "      <td>15513945.0</td>\n",
              "      <td>9797734.0</td>\n",
              "      <td>6865951.0</td>\n",
              "      <td>4924402.0</td>\n",
              "    </tr>\n",
              "    <tr>\n",
              "      <th>2005.0</th>\n",
              "      <td>138865016.0</td>\n",
              "      <td>21814642.0</td>\n",
              "      <td>13624467.0</td>\n",
              "      <td>17733410.0</td>\n",
              "      <td>11090116.0</td>\n",
              "      <td>7982225.0</td>\n",
              "      <td>5611640.0</td>\n",
              "    </tr>\n",
              "    <tr>\n",
              "      <th>2010.0</th>\n",
              "      <td>158503197.0</td>\n",
              "      <td>24779619.0</td>\n",
              "      <td>16464025.0</td>\n",
              "      <td>20341241.0</td>\n",
              "      <td>12678148.0</td>\n",
              "      <td>9199259.0</td>\n",
              "      <td>6421679.0</td>\n",
              "    </tr>\n",
              "    <tr>\n",
              "      <th>2015.0</th>\n",
              "      <td>181137448.0</td>\n",
              "      <td>27849205.0</td>\n",
              "      <td>20001663.0</td>\n",
              "      <td>23298368.0</td>\n",
              "      <td>14578459.0</td>\n",
              "      <td>10575952.0</td>\n",
              "      <td>7323158.0</td>\n",
              "    </tr>\n",
              "    <tr>\n",
              "      <th>2016.0</th>\n",
              "      <td>185960241.0</td>\n",
              "      <td>28481945.0</td>\n",
              "      <td>20788798.0</td>\n",
              "      <td>23926551.0</td>\n",
              "      <td>14993519.0</td>\n",
              "      <td>10872063.0</td>\n",
              "      <td>7509951.0</td>\n",
              "    </tr>\n",
              "    <tr>\n",
              "      <th>2017.0</th>\n",
              "      <td>190873244.0</td>\n",
              "      <td>29121465.0</td>\n",
              "      <td>21602382.0</td>\n",
              "      <td>24566073.0</td>\n",
              "      <td>15419355.0</td>\n",
              "      <td>11175198.0</td>\n",
              "      <td>7698474.0</td>\n",
              "    </tr>\n",
              "    <tr>\n",
              "      <th>2018.0</th>\n",
              "      <td>195874683.0</td>\n",
              "      <td>29767102.0</td>\n",
              "      <td>22442822.0</td>\n",
              "      <td>25216267.0</td>\n",
              "      <td>15854323.0</td>\n",
              "      <td>11485044.0</td>\n",
              "      <td>7889093.0</td>\n",
              "    </tr>\n",
              "    <tr>\n",
              "      <th>2019.0</th>\n",
              "      <td>200963599.0</td>\n",
              "      <td>30417856.0</td>\n",
              "      <td>23310715.0</td>\n",
              "      <td>25876380.0</td>\n",
              "      <td>16296364.0</td>\n",
              "      <td>11801151.0</td>\n",
              "      <td>8082366.0</td>\n",
              "    </tr>\n",
              "    <tr>\n",
              "      <th>2020.0</th>\n",
              "      <td>206139589.0</td>\n",
              "      <td>31072940.0</td>\n",
              "      <td>24206644.0</td>\n",
              "      <td>26545863.0</td>\n",
              "      <td>16743927.0</td>\n",
              "      <td>12123200.0</td>\n",
              "      <td>8278724.0</td>\n",
              "    </tr>\n",
              "  </tbody>\n",
              "</table>\n",
              "</div>"
            ],
            "text/plain": [
              "country      Nigeria       Ghana       Niger    Cameroon     Senegal  \\\n",
              "year                                                                   \n",
              "1955.0    41086100.0   5730594.0   2955541.0   4706995.0   2808225.0   \n",
              "1960.0    45138458.0   6635230.0   3388764.0   5176918.0   3206749.0   \n",
              "1965.0    50127921.0   7739473.0   3914117.0   5773543.0   3682876.0   \n",
              "1970.0    55982144.0   8735495.0   4510644.0   6519762.0   4257505.0   \n",
              "1975.0    63374298.0   9985946.0   5184941.0   7451054.0   4929846.0   \n",
              "1980.0    73423633.0  11056116.0   5989004.0   8621406.0   5583165.0   \n",
              "1985.0    83562785.0  12783613.0   6915997.0  10070806.0   6471327.0   \n",
              "1990.0    95212450.0  14773277.0   8026591.0  11780088.0   7526307.0   \n",
              "1995.0   107948335.0  17014057.0   9490288.0  13599988.0   8690164.0   \n",
              "2000.0   122283850.0  19278856.0  11331557.0  15513945.0   9797734.0   \n",
              "2005.0   138865016.0  21814642.0  13624467.0  17733410.0  11090116.0   \n",
              "2010.0   158503197.0  24779619.0  16464025.0  20341241.0  12678148.0   \n",
              "2015.0   181137448.0  27849205.0  20001663.0  23298368.0  14578459.0   \n",
              "2016.0   185960241.0  28481945.0  20788798.0  23926551.0  14993519.0   \n",
              "2017.0   190873244.0  29121465.0  21602382.0  24566073.0  15419355.0   \n",
              "2018.0   195874683.0  29767102.0  22442822.0  25216267.0  15854323.0   \n",
              "2019.0   200963599.0  30417856.0  23310715.0  25876380.0  16296364.0   \n",
              "2020.0   206139589.0  31072940.0  24206644.0  26545863.0  16743927.0   \n",
              "\n",
              "country       Benin       Togo  \n",
              "year                            \n",
              "1955.0    2303587.0  1473839.0  \n",
              "1960.0    2431622.0  1580513.0  \n",
              "1965.0    2632356.0  1708630.0  \n",
              "1970.0    2912340.0  2115522.0  \n",
              "1975.0    3265165.0  2410446.0  \n",
              "1980.0    3717165.0  2720839.0  \n",
              "1985.0    4278501.0  3252994.0  \n",
              "1990.0    4978496.0  3774312.0  \n",
              "1995.0    5905558.0  4226291.0  \n",
              "2000.0    6865951.0  4924402.0  \n",
              "2005.0    7982225.0  5611640.0  \n",
              "2010.0    9199259.0  6421679.0  \n",
              "2015.0   10575952.0  7323158.0  \n",
              "2016.0   10872063.0  7509951.0  \n",
              "2017.0   11175198.0  7698474.0  \n",
              "2018.0   11485044.0  7889093.0  \n",
              "2019.0   11801151.0  8082366.0  \n",
              "2020.0   12123200.0  8278724.0  "
            ]
          },
          "execution_count": 27,
          "metadata": {},
          "output_type": "execute_result"
        }
      ],
      "source": [
        "#Showing Pivot table\n",
        "pivot_populaton"
      ]
    },
    {
      "cell_type": "markdown",
      "id": "566c0009",
      "metadata": {
        "id": "566c0009"
      },
      "source": [
        "### Plotting, saving plots, export pivots"
      ]
    },
    {
      "cell_type": "code",
      "execution_count": null,
      "id": "c2f7a6d5",
      "metadata": {
        "scrolled": true,
        "id": "c2f7a6d5"
      },
      "outputs": [],
      "source": [
        "#Importing matplotlib\n",
        "import matplotlib.pyplot as plt"
      ]
    },
    {
      "cell_type": "markdown",
      "id": "0905f605",
      "metadata": {
        "id": "0905f605"
      },
      "source": [
        "## LINE PLOT"
      ]
    },
    {
      "cell_type": "code",
      "execution_count": null,
      "id": "8429794c",
      "metadata": {
        "id": "8429794c",
        "outputId": "bcc0e3d1-b67d-4f0b-c697-8e8e6cf45a28"
      },
      "outputs": [
        {
          "data": {
            "image/png": "[encoded data removed]",
            "text/plain": [
              "<Figure size 1008x432 with 1 Axes>"
            ]
          },
          "metadata": {
            "needs_background": "light"
          },
          "output_type": "display_data"
        }
      ],
      "source": [
        "pivot_populaton.plot(kind = 'line', xlabel = 'Year', ylabel = 'Population', \n",
        "                     title = 'Population (1955 -2020)',\n",
        "                    figsize = (14,6))\n",
        "#save plot\n",
        "plt.savefig('pnd_proj.png')\n",
        "#show plot\n",
        "plt.show()"
      ]
    },
    {
      "cell_type": "code",
      "execution_count": null,
      "id": "ea02ad22",
      "metadata": {
        "id": "ea02ad22"
      },
      "outputs": [],
      "source": [
        "pivot_populaton.to_excel('pivot_populationTBL.xlsx')"
      ]
    },
    {
      "cell_type": "markdown",
      "id": "ccd1da27",
      "metadata": {
        "id": "ccd1da27"
      },
      "source": [
        "# BAR PLOT\n"
      ]
    },
    {
      "cell_type": "markdown",
      "id": "3280e80d",
      "metadata": {
        "id": "3280e80d"
      },
      "source": [
        "## Single Bar Plot\n"
      ]
    },
    {
      "cell_type": "code",
      "execution_count": null,
      "id": "19e9a160",
      "metadata": {
        "id": "19e9a160"
      },
      "outputs": [],
      "source": [
        "#selecting only one year (2020)\n",
        "#using the .index attribute and isin method\n",
        "pivot_populaton_2020 = pivot_populaton[pivot_populaton.index.isin([2020])]"
      ]
    },
    {
      "cell_type": "code",
      "execution_count": null,
      "id": "896ff098",
      "metadata": {
        "id": "896ff098",
        "outputId": "6307fe4c-a0d0-4335-905b-6137a98ab28c"
      },
      "outputs": [
        {
          "data": {
            "text/html": [
              "<div>\n",
              "<style scoped>\n",
              "    .dataframe tbody tr th:only-of-type {\n",
              "        vertical-align: middle;\n",
              "    }\n",
              "\n",
              "    .dataframe tbody tr th {\n",
              "        vertical-align: top;\n",
              "    }\n",
              "\n",
              "    .dataframe thead th {\n",
              "        text-align: right;\n",
              "    }\n",
              "</style>\n",
              "<table border=\"1\" class=\"dataframe\">\n",
              "  <thead>\n",
              "    <tr style=\"text-align: right;\">\n",
              "      <th>country</th>\n",
              "      <th>Nigeria</th>\n",
              "      <th>Ghana</th>\n",
              "      <th>Niger</th>\n",
              "      <th>Cameroon</th>\n",
              "      <th>Senegal</th>\n",
              "      <th>Benin</th>\n",
              "      <th>Togo</th>\n",
              "    </tr>\n",
              "    <tr>\n",
              "      <th>year</th>\n",
              "      <th></th>\n",
              "      <th></th>\n",
              "      <th></th>\n",
              "      <th></th>\n",
              "      <th></th>\n",
              "      <th></th>\n",
              "      <th></th>\n",
              "    </tr>\n",
              "  </thead>\n",
              "  <tbody>\n",
              "    <tr>\n",
              "      <th>2020.0</th>\n",
              "      <td>206139589.0</td>\n",
              "      <td>31072940.0</td>\n",
              "      <td>24206644.0</td>\n",
              "      <td>26545863.0</td>\n",
              "      <td>16743927.0</td>\n",
              "      <td>12123200.0</td>\n",
              "      <td>8278724.0</td>\n",
              "    </tr>\n",
              "  </tbody>\n",
              "</table>\n",
              "</div>"
            ],
            "text/plain": [
              "country      Nigeria       Ghana       Niger    Cameroon     Senegal  \\\n",
              "year                                                                   \n",
              "2020.0   206139589.0  31072940.0  24206644.0  26545863.0  16743927.0   \n",
              "\n",
              "country       Benin       Togo  \n",
              "year                            \n",
              "2020.0   12123200.0  8278724.0  "
            ]
          },
          "execution_count": 47,
          "metadata": {},
          "output_type": "execute_result"
        }
      ],
      "source": [
        "#showing new dataframe\n",
        "pivot_populaton_2020"
      ]
    },
    {
      "cell_type": "code",
      "execution_count": null,
      "id": "84442c6b",
      "metadata": {
        "id": "84442c6b",
        "outputId": "aac77005-e635-4253-b435-e72580474fc7"
      },
      "outputs": [
        {
          "data": {
            "text/html": [
              "<div>\n",
              "<style scoped>\n",
              "    .dataframe tbody tr th:only-of-type {\n",
              "        vertical-align: middle;\n",
              "    }\n",
              "\n",
              "    .dataframe tbody tr th {\n",
              "        vertical-align: top;\n",
              "    }\n",
              "\n",
              "    .dataframe thead th {\n",
              "        text-align: right;\n",
              "    }\n",
              "</style>\n",
              "<table border=\"1\" class=\"dataframe\">\n",
              "  <thead>\n",
              "    <tr style=\"text-align: right;\">\n",
              "      <th>year</th>\n",
              "      <th>2020.0</th>\n",
              "    </tr>\n",
              "    <tr>\n",
              "      <th>country</th>\n",
              "      <th></th>\n",
              "    </tr>\n",
              "  </thead>\n",
              "  <tbody>\n",
              "    <tr>\n",
              "      <th>Nigeria</th>\n",
              "      <td>206139589.0</td>\n",
              "    </tr>\n",
              "    <tr>\n",
              "      <th>Ghana</th>\n",
              "      <td>31072940.0</td>\n",
              "    </tr>\n",
              "    <tr>\n",
              "      <th>Niger</th>\n",
              "      <td>24206644.0</td>\n",
              "    </tr>\n",
              "    <tr>\n",
              "      <th>Cameroon</th>\n",
              "      <td>26545863.0</td>\n",
              "    </tr>\n",
              "    <tr>\n",
              "      <th>Senegal</th>\n",
              "      <td>16743927.0</td>\n",
              "    </tr>\n",
              "    <tr>\n",
              "      <th>Benin</th>\n",
              "      <td>12123200.0</td>\n",
              "    </tr>\n",
              "    <tr>\n",
              "      <th>Togo</th>\n",
              "      <td>8278724.0</td>\n",
              "    </tr>\n",
              "  </tbody>\n",
              "</table>\n",
              "</div>"
            ],
            "text/plain": [
              "year           2020.0\n",
              "country              \n",
              "Nigeria   206139589.0\n",
              "Ghana      31072940.0\n",
              "Niger      24206644.0\n",
              "Cameroon   26545863.0\n",
              "Senegal    16743927.0\n",
              "Benin      12123200.0\n",
              "Togo        8278724.0"
            ]
          },
          "execution_count": 48,
          "metadata": {},
          "output_type": "execute_result"
        }
      ],
      "source": [
        "#transpose dataframe from rows to columns or viceversa\n",
        "#when making barplots, text data has to be in the index\n",
        "pivot_populaton_2020.T\n"
      ]
    },
    {
      "cell_type": "code",
      "execution_count": null,
      "id": "15909d93",
      "metadata": {
        "id": "15909d93"
      },
      "outputs": [],
      "source": [
        "pivot_populaton_chrt = pivot_populaton_2020.T"
      ]
    },
    {
      "cell_type": "code",
      "execution_count": null,
      "id": "ec50ebc9",
      "metadata": {
        "collapsed": true,
        "id": "ec50ebc9",
        "outputId": "d0e86de4-ec04-4a80-e892-e31323394640"
      },
      "outputs": [
        {
          "data": {
            "text/html": [
              "<div>\n",
              "<style scoped>\n",
              "    .dataframe tbody tr th:only-of-type {\n",
              "        vertical-align: middle;\n",
              "    }\n",
              "\n",
              "    .dataframe tbody tr th {\n",
              "        vertical-align: top;\n",
              "    }\n",
              "\n",
              "    .dataframe thead th {\n",
              "        text-align: right;\n",
              "    }\n",
              "</style>\n",
              "<table border=\"1\" class=\"dataframe\">\n",
              "  <thead>\n",
              "    <tr style=\"text-align: right;\">\n",
              "      <th>year</th>\n",
              "      <th>2020.0</th>\n",
              "    </tr>\n",
              "    <tr>\n",
              "      <th>country</th>\n",
              "      <th></th>\n",
              "    </tr>\n",
              "  </thead>\n",
              "  <tbody>\n",
              "    <tr>\n",
              "      <th>Nigeria</th>\n",
              "      <td>206139589.0</td>\n",
              "    </tr>\n",
              "    <tr>\n",
              "      <th>Ghana</th>\n",
              "      <td>31072940.0</td>\n",
              "    </tr>\n",
              "    <tr>\n",
              "      <th>Niger</th>\n",
              "      <td>24206644.0</td>\n",
              "    </tr>\n",
              "    <tr>\n",
              "      <th>Cameroon</th>\n",
              "      <td>26545863.0</td>\n",
              "    </tr>\n",
              "    <tr>\n",
              "      <th>Senegal</th>\n",
              "      <td>16743927.0</td>\n",
              "    </tr>\n",
              "    <tr>\n",
              "      <th>Benin</th>\n",
              "      <td>12123200.0</td>\n",
              "    </tr>\n",
              "    <tr>\n",
              "      <th>Togo</th>\n",
              "      <td>8278724.0</td>\n",
              "    </tr>\n",
              "  </tbody>\n",
              "</table>\n",
              "</div>"
            ],
            "text/plain": [
              "year           2020.0\n",
              "country              \n",
              "Nigeria   206139589.0\n",
              "Ghana      31072940.0\n",
              "Niger      24206644.0\n",
              "Cameroon   26545863.0\n",
              "Senegal    16743927.0\n",
              "Benin      12123200.0\n",
              "Togo        8278724.0"
            ]
          },
          "execution_count": 55,
          "metadata": {},
          "output_type": "execute_result"
        }
      ],
      "source": [
        "pivot_populaton_chrt"
      ]
    },
    {
      "cell_type": "code",
      "execution_count": null,
      "id": "b4e75f7c",
      "metadata": {
        "id": "b4e75f7c",
        "outputId": "2558befe-32b2-49ea-836f-481eda2e6a6a"
      },
      "outputs": [
        {
          "data": {
            "text/plain": [
              "<AxesSubplot:title={'center':'Population 2020'}, xlabel='Year', ylabel='Population'>"
            ]
          },
          "execution_count": 59,
          "metadata": {},
          "output_type": "execute_result"
        },
        {
          "data": {
            "image/png": "[encoded data removed]",
            "text/plain": [
              "<Figure size 576x288 with 1 Axes>"
            ]
          },
          "metadata": {
            "needs_background": "light"
          },
          "output_type": "display_data"
        }
      ],
      "source": [
        "# making barplot\n",
        "pivot_populaton_chrt.plot(kind='bar',color= 'green',\n",
        "                         xlabel = 'Year', ylabel = 'Population',\n",
        "                         title = 'Population 2020',\n",
        "                           figsize = (8,4))"
      ]
    },
    {
      "cell_type": "markdown",
      "id": "3cb18235",
      "metadata": {
        "id": "3cb18235"
      },
      "source": [
        "## Bar Plot grouped by \"n\" variables"
      ]
    },
    {
      "cell_type": "code",
      "execution_count": null,
      "id": "79604771",
      "metadata": {
        "id": "79604771"
      },
      "outputs": [],
      "source": [
        "#selecting few years\n",
        "pivot_populaton_chrtgrpd = pivot_populaton[pivot_populaton.index.isin([2000,2005,2010,2015,2020])]"
      ]
    },
    {
      "cell_type": "code",
      "execution_count": null,
      "id": "e3fdd306",
      "metadata": {
        "id": "e3fdd306",
        "outputId": "e9ad2ab0-ef97-4d17-bb19-7072b02ecff1"
      },
      "outputs": [
        {
          "data": {
            "text/plain": [
              "<AxesSubplot:title={'center':'Population last two decades'}, xlabel='Year', ylabel='Population'>"
            ]
          },
          "execution_count": 69,
          "metadata": {},
          "output_type": "execute_result"
        },
        {
          "data": {
            "image/png": "[encoded data removed]",
            "text/plain": [
              "<Figure size 1008x432 with 1 Axes>"
            ]
          },
          "metadata": {
            "needs_background": "light"
          },
          "output_type": "display_data"
        }
      ],
      "source": [
        "#making grouped barplots\n",
        "pivot_populaton_chrtgrpd.plot(kind='bar',  xlabel = 'Year', ylabel = 'Population',\n",
        "                         title = 'Population last two decades',\n",
        "                           figsize = (14,6))\n",
        "                             "
      ]
    },
    {
      "cell_type": "markdown",
      "id": "85cbe3e5",
      "metadata": {
        "id": "85cbe3e5"
      },
      "source": [
        "# PIECHART"
      ]
    },
    {
      "cell_type": "code",
      "execution_count": null,
      "id": "9088006d",
      "metadata": {
        "scrolled": true,
        "id": "9088006d"
      },
      "outputs": [],
      "source": [
        "#changing the Column name\n",
        "#its not good practice to use integer as columns in piechart,so i will cahnge the name of the column to string\n",
        "#using the .rename() method\n",
        "pivot_populaton_chrt.rename(columns = {2020:'2020'}, inplace = True)"
      ]
    },
    {
      "cell_type": "code",
      "execution_count": null,
      "id": "0d1123b3",
      "metadata": {
        "id": "0d1123b3",
        "outputId": "5cd808ab-3adf-4ee4-b1c0-ed34865c82d9"
      },
      "outputs": [
        {
          "data": {
            "text/plain": [
              "<AxesSubplot:title={'center':'Population 2020(%)'}, ylabel='2020'>"
            ]
          },
          "execution_count": 80,
          "metadata": {},
          "output_type": "execute_result"
        },
        {
          "data": {
            "image/png": "[encoded data removed]",
            "text/plain": [
              "<Figure size 432x288 with 1 Axes>"
            ]
          },
          "metadata": {},
          "output_type": "display_data"
        }
      ],
      "source": [
        "#piechart plot\n",
        "pivot_populaton_chrt.plot(kind = 'pie', y = '2020',\n",
        "                         title = 'Population 2020(%)')"
      ]
    },
    {
      "cell_type": "markdown",
      "id": "7f74491a",
      "metadata": {
        "id": "7f74491a"
      },
      "source": [
        ""
      ]
    },
    {
      "cell_type": "code",
      "execution_count": null,
      "id": "1f43849e",
      "metadata": {
        "id": "1f43849e"
      },
      "outputs": [],
      "source": [
        ""
      ]
    },
    {
      "cell_type": "code",
      "execution_count": null,
      "id": "04ae9f57",
      "metadata": {
        "id": "04ae9f57"
      },
      "outputs": [],
      "source": [
        ""
      ]
    },
    {
      "cell_type": "code",
      "execution_count": null,
      "id": "df31ed48",
      "metadata": {
        "id": "df31ed48"
      },
      "outputs": [],
      "source": [
        ""
      ]
    },
    {
      "cell_type": "code",
      "execution_count": null,
      "id": "e3ec8859",
      "metadata": {
        "id": "e3ec8859"
      },
      "outputs": [],
      "source": [
        ""
      ]
    },
    {
      "cell_type": "code",
      "execution_count": null,
      "id": "9f50c8c6",
      "metadata": {
        "id": "9f50c8c6"
      },
      "outputs": [],
      "source": [
        ""
      ]
    }
  ],
  "metadata": {
    "kernelspec": {
      "display_name": "Python 3 (ipykernel)",
      "language": "python",
      "name": "python3"
    },
    "language_info": {
      "codemirror_mode": {
        "name": "ipython",
        "version": 3
      },
      "file_extension": ".py",
      "mimetype": "text/x-python",
      "name": "python",
      "nbconvert_exporter": "python",
      "pygments_lexer": "ipython3",
      "version": "3.9.7"
    },
    "colab": {
      "name": "Sample Population Pivot and Plots.ipynb",
      "provenance": [],
      "include_colab_link": true
    }
  },
  "nbformat": 4,
  "nbformat_minor": 5
}